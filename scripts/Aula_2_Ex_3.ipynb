{
 "cells": [
  {
   "cell_type": "markdown",
   "metadata": {},
   "source": [
    "Exercício 3: Implementar o SelectPercentile"
   ]
  },
  {
   "cell_type": "markdown",
   "metadata": {},
   "source": [
    "3.1) Adiciona o objeto SelectPercentile ao sub-package feature_selection. Deves criar um módulo chamado select_percentile.py para implementar este objeto"
   ]
  },
  {
   "cell_type": "code",
   "execution_count": 1,
   "metadata": {},
   "outputs": [],
   "source": [
    "import pandas as pd\n",
    "from si.statistics.f_classification import f_classification\n",
    "from si.feature_selection.select_percentile import SelectPercentile\n",
    "from si.io.csv import read_csv"
   ]
  },
  {
   "cell_type": "markdown",
   "metadata": {},
   "source": [
    "3.2) A class SelectPercentile tem uma arquitetura semelhante à classe SelectKBest. Considera a estrutura apresentada no diapositivo seguinte."
   ]
  },
  {
   "cell_type": "markdown",
   "metadata": {},
   "source": [
    "3.3) Podes testar a class SelectPercentile num jupyter notebook usando o dataset iris.csv (classificação)"
   ]
  },
  {
   "cell_type": "code",
   "execution_count": 2,
   "metadata": {},
   "outputs": [],
   "source": [
    "# Load the csv file to the notebook\n",
    "path = 'C:/Users/Catarina Ferreira/Desktop/Bioinf 2ºano/sistemas_inteligentes/datasets/iris.csv'\n",
    "# Reading the csv file\n",
    "iris = read_csv(path, sep=\",\", label=True, features=True)"
   ]
  },
  {
   "cell_type": "code",
   "execution_count": 3,
   "metadata": {},
   "outputs": [
    {
     "name": "stdout",
     "output_type": "stream",
     "text": [
      "[ 119.26450218   47.3644614  1179.0343277   959.32440573]\n",
      "[1.66966919e-31 1.32791652e-16 3.05197580e-91 4.37695696e-85]\n",
      "(150, 2)\n"
     ]
    }
   ],
   "source": [
    "# Select features with the highest scores when given a percentile\n",
    "select_per = SelectPercentile(percentile=50, score_func=f_classification)\n",
    "# Calculating the score of each feature\n",
    "trans_iris = select_per.fit_transform(iris)\n",
    "\n",
    "# Printing the p and f values of the best features\n",
    "print(select_per.f_value)\n",
    "print(select_per.p_value)\n",
    "# Printing the shape of the transformed dataset\n",
    "print(trans_iris.shape())"
   ]
  }
 ],
 "metadata": {
  "kernelspec": {
   "display_name": "Python 3 (ipykernel)",
   "language": "python",
   "name": "python3"
  },
  "language_info": {
   "codemirror_mode": {
    "name": "ipython",
    "version": 3
   },
   "file_extension": ".py",
   "mimetype": "text/x-python",
   "name": "python",
   "nbconvert_exporter": "python",
   "pygments_lexer": "ipython3",
   "version": "3.9.12 (main, Apr  4 2022, 05:22:27) [MSC v.1916 64 bit (AMD64)]"
  },
  "vscode": {
   "interpreter": {
    "hash": "26683c0a52c1ce81576e6920e98984204be89e95651716e71c2eb5e64142253a"
   }
  }
 },
 "nbformat": 4,
 "nbformat_minor": 2
}

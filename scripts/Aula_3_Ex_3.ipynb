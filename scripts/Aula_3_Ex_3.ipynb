{
 "cells": [
  {
   "cell_type": "markdown",
   "metadata": {},
   "source": [
    "Exercício 3: Implementar o PCA"
   ]
  },
  {
   "cell_type": "markdown",
   "metadata": {},
   "source": [
    "3.1) Adiciona o objeto PCA ao sub-package decomposition. Deves criar um módulo chamado pca.py para implementar este objeto"
   ]
  },
  {
   "cell_type": "code",
   "execution_count": 1,
   "metadata": {},
   "outputs": [],
   "source": [
    "from si.decomposition.pca import PCA\n",
    "from si.io.csv import read_csv"
   ]
  },
  {
   "cell_type": "markdown",
   "metadata": {},
   "source": [
    "3.2) Considera a estrutura do objeto PCA apresentada no diapositivo seguinte."
   ]
  },
  {
   "cell_type": "markdown",
   "metadata": {},
   "source": [
    "3.3) Podes testar o objeto PCA num jupyter notebook usando o dataset iris.csv (classificação)"
   ]
  },
  {
   "cell_type": "code",
   "execution_count": 2,
   "metadata": {},
   "outputs": [
    {
     "name": "stdout",
     "output_type": "stream",
     "text": [
      "Shape: (150, 4)\n",
      "-----------------\n",
      "Components:\n",
      " [[ 0.36158968 -0.08226889]\n",
      " [-0.65653988 -0.72971237]\n",
      " [ 0.58099728 -0.59641809]\n",
      " [ 0.31725455 -0.32409435]]\n",
      "-----------------\n",
      "Variance: [4.22484077 0.24224357]\n",
      "-----------------\n",
      "Mean: [5.84333333 3.054      3.75866667 1.19866667]\n"
     ]
    }
   ],
   "source": [
    "# Load the csv file to the notebook\n",
    "path = 'C:/Users/Catarina Ferreira/Desktop/Bioinf 2ºano/sistemas_inteligentes/datasets/iris.csv'\n",
    "# Reading the csv file\n",
    "iris = read_csv(path, sep = \",\", features = True, label = True)\n",
    "# Printing the shape of the dataset\n",
    "print(\"Shape:\", iris.shape())\n",
    "\n",
    "# Reducing the dimensions of the dataset. In this case we want only 2 components\n",
    "pca = PCA(2)\n",
    "# Calculating the mean and variance of the components of the dataset\n",
    "pca.fit_transform(iris)\n",
    "\n",
    "# Printing the main matches of the n_components\n",
    "print('-----------------')\n",
    "print(\"Components:\\n\", pca.components)\n",
    "# Printing the variance of the n_components\n",
    "print('-----------------')\n",
    "print(\"Variance:\", pca.explained_variance)\n",
    "# Printing the mean \n",
    "print('-----------------')\n",
    "print(\"Mean:\", pca.mean)"
   ]
  }
 ],
 "metadata": {
  "kernelspec": {
   "display_name": "Python 3 (ipykernel)",
   "language": "python",
   "name": "python3"
  },
  "language_info": {
   "codemirror_mode": {
    "name": "ipython",
    "version": 3
   },
   "file_extension": ".py",
   "mimetype": "text/x-python",
   "name": "python",
   "nbconvert_exporter": "python",
   "pygments_lexer": "ipython3",
   "version": "3.9.12 (main, Apr  4 2022, 05:22:27) [MSC v.1916 64 bit (AMD64)]"
  },
  "vscode": {
   "interpreter": {
    "hash": "26683c0a52c1ce81576e6920e98984204be89e95651716e71c2eb5e64142253a"
   }
  }
 },
 "nbformat": 4,
 "nbformat_minor": 2
}

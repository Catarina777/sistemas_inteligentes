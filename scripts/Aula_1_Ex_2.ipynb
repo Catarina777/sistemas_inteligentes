{
 "cells": [
  {
   "attachments": {},
   "cell_type": "markdown",
   "metadata": {},
   "source": [
    "Exercício 2: NumPy array Indexing/Slicing"
   ]
  },
  {
   "attachments": {},
   "cell_type": "markdown",
   "metadata": {},
   "source": [
    "2.1) Adiciona um método ao objeto Dataset que remove todas as amostras que contêm pelo menos um valor nulo (NaN). Nota que o objeto resultante não deve conter valores nulos em para nenhuma feature/variável independente. Nota também que deves atualizar o vetor y removendo as entradas associadas às amostras a remover. Deves usar apenas funções no NumPy. \n",
    "Nome do método: dropna"
   ]
  },
  {
   "cell_type": "code",
   "execution_count": 1,
   "metadata": {},
   "outputs": [],
   "source": [
    "import numpy as np\n",
    "\n",
    "def dropna(self):\n",
    "\t\"\"\"\n",
    "\tRemoves all of the samples that contain one null value minimum (NaN)\n",
    "\t\"\"\"\n",
    "\tif self.shape()[0] != len(self.y):\n",
    "\t\traise ValueError(\"Examples must be equal to the length of y\")\n",
    "\t# If it has y\n",
    "\tif self.has_label(): \n",
    "\t\tself.y = self.y[~np.isnan(self.X).any(axis=1)]\n",
    "\t# Makes the opposite and returns all the lines that don't have NaN\n",
    "\tself.X = self.X[~np.isnan(self.X).any(axis=1)]"
   ]
  },
  {
   "attachments": {},
   "cell_type": "markdown",
   "metadata": {},
   "source": [
    "2.2) Adiciona um método ao objeto Dataset que substitui todas os valores nulos por outro valor (argumento da função/método). Nota\n",
    "que o objeto resultante não deve conter valores nulos em para nenhuma feature/variável independente. Deves usar apenas funções no NumPy. Nome do método: fillna\n"
   ]
  },
  {
   "cell_type": "code",
   "execution_count": 2,
   "metadata": {},
   "outputs": [],
   "source": [
    "import numpy as np \n",
    "\n",
    "def fillna(self, val: int):\n",
    "\t\"\"\"\n",
    "\tReplaces all null values with a given value\n",
    "\n",
    "\tParamaters\n",
    "\t----------\n",
    "\tval: Given value to replace the NaN values with\n",
    "\t\"\"\"\n",
    "\t# Changes all the values that had NaN as a value, for one that we choose\n",
    "\treturn np.nan_to_num(self.X, nan = val, copy = False)"
   ]
  }
 ],
 "metadata": {
  "kernelspec": {
   "display_name": "base",
   "language": "python",
   "name": "python3"
  },
  "language_info": {
   "codemirror_mode": {
    "name": "ipython",
    "version": 3
   },
   "file_extension": ".py",
   "mimetype": "text/x-python",
   "name": "python",
   "nbconvert_exporter": "python",
   "pygments_lexer": "ipython3",
   "version": "3.9.12 (main, Apr  4 2022, 05:22:27) [MSC v.1916 64 bit (AMD64)]"
  },
  "orig_nbformat": 4,
  "vscode": {
   "interpreter": {
    "hash": "26683c0a52c1ce81576e6920e98984204be89e95651716e71c2eb5e64142253a"
   }
  }
 },
 "nbformat": 4,
 "nbformat_minor": 2
}

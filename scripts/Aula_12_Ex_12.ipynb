{
 "cells": [
  {
   "attachments": {},
   "cell_type": "markdown",
   "metadata": {},
   "source": [
    "Exercício 12: Redes neuronais e Backpropagation"
   ]
  },
  {
   "cell_type": "code",
   "execution_count": 11,
   "metadata": {},
   "outputs": [],
   "source": [
    "import numpy as np\n",
    "from si.io.data_file import read_data_file\n",
    "from sklearn.preprocessing import StandardScaler\n",
    "from si.io.csv import read_csv\n",
    "from si.metrics.cross_entropy import cross_entropy\n",
    "from si.model_selection.split import train_test_split\n",
    "from si.neural_networks.layers import Dense, ReLUActivation, LinearActivation, SigmoidActivation, SoftMaxActivation\n",
    "from si.neural_networks.nn import NN"
   ]
  },
  {
   "attachments": {},
   "cell_type": "markdown",
   "metadata": {},
   "source": [
    "12.1) Implementa o método de backward propagation da ReLUActivation layer.\n",
    "\n",
    "- Considera o seguinte para a propagação do erro numa layer de ativação ReLU:\n",
    "\n",
    "    • Substituir valores de erro superiores a 0 por 1\n",
    "\n",
    "    • Substituir valores de erro inferiores a 0 por 0\n",
    "    \n",
    "    • Multiplicação elemento a elemento entre o erro e os valores anteriores"
   ]
  },
  {
   "cell_type": "code",
   "execution_count": 12,
   "metadata": {},
   "outputs": [],
   "source": [
    "def backward(input_data: np.ndarray, error: np.ndarray) -> np.ndarray:\n",
    "    \"\"\"\n",
    "    Computes the backwards pass of the rectified linear relationship.\n",
    "    \n",
    "\tReturns\n",
    "\t------------\n",
    "\tError of the previous layer.\n",
    "    \"\"\"\n",
    "    relu_derivative = np.where(input_data > 0, 1, 0)\n",
    "    error_to_propagate = error * relu_derivative\n",
    "    return error_to_propagate"
   ]
  },
  {
   "attachments": {},
   "cell_type": "markdown",
   "metadata": {},
   "source": [
    "12.2) Constrói um modelo de redes neuronais adequado ao dataset breast-bin.csv."
   ]
  },
  {
   "cell_type": "code",
   "execution_count": 15,
   "metadata": {},
   "outputs": [
    {
     "name": "stdout",
     "output_type": "stream",
     "text": [
      "(490, 9)\n"
     ]
    },
    {
     "data": {
      "text/plain": [
       "<si.neural_networks.nn.NN at 0x2355120fdf0>"
      ]
     },
     "execution_count": 15,
     "metadata": {},
     "output_type": "execute_result"
    }
   ],
   "source": [
    "# Load the data file to the notebook\n",
    "path= r\"C:/Users/Catarina Ferreira/Desktop/Bioinf 2ºano/sistemas_inteligentes/datasets/breast-bin.data\"\n",
    "# Reading the data file\n",
    "breast = read_data_file(path, sep=\",\", label=True)\n",
    "\n",
    "# Standardizing and transforming the values\n",
    "breast.x = StandardScaler().fit_transform(breast.x)\n",
    "# Spliting the dataset in train and testing parts\n",
    "train, test = train_test_split(breast)\n",
    "\n",
    "print(train.shape())\n",
    "\n",
    "layer_1 = Dense(input_size = 9, output_size = 5)\n",
    "layer_2 = Dense(input_size = 5, output_size = 3)\n",
    "layer_3 = Dense(input_size = 3, output_size = 1)\n",
    "\n",
    "layer_1_rl_activation = ReLUActivation()\n",
    "layer_2_rl_activation = ReLUActivation()\n",
    "layer_3_sg_activation = SigmoidActivation()\n",
    "\n",
    "# Between the layers, we have the layer activation\n",
    "nn_model = NN(layers=[layer_1, layer_1_rl_activation, layer_2, layer_2_rl_activation, layer_3, layer_3_sg_activation])\n",
    "# Training the neural network\n",
    "nn_model.fit(train)"
   ]
  },
  {
   "attachments": {},
   "cell_type": "markdown",
   "metadata": {},
   "source": [
    "12.3) Constrói um modelo de redes neuronais adequado ao dataset cpu.csv. "
   ]
  },
  {
   "cell_type": "code",
   "execution_count": 16,
   "metadata": {},
   "outputs": [
    {
     "name": "stdout",
     "output_type": "stream",
     "text": [
      "(147, 6)\n"
     ]
    },
    {
     "data": {
      "text/plain": [
       "<si.neural_networks.nn.NN at 0x23551202f40>"
      ]
     },
     "execution_count": 16,
     "metadata": {},
     "output_type": "execute_result"
    }
   ],
   "source": [
    "# Load the csv file to the notebook\n",
    "path = r\"C:/Users/Catarina Ferreira/Desktop/Bioinf 2ºano/sistemas_inteligentes/datasets/cpu.csv\"\n",
    "# Reading the csv file\n",
    "cpu = read_csv(path, sep=\",\", features=True, label=True)\n",
    "\n",
    "# Standardizing and transforming the values\n",
    "cpu.x = StandardScaler().fit_transform(cpu.x)\n",
    "# Spliting the dataset in train and testing parts\n",
    "train, test = train_test_split(cpu)\n",
    "\n",
    "print(train.shape())\n",
    "\n",
    "layer_1 = Dense(input_size=6, output_size=4)\n",
    "layer_2 = Dense(input_size=4, output_size=2)\n",
    "layer_3 = Dense(input_size=2, output_size=1)\n",
    "\n",
    "layer_1_rl_activation = ReLUActivation()\n",
    "layer_2_rl_activation = ReLUActivation()\n",
    "layer_3__sg_activation = SigmoidActivation()\n",
    "\n",
    "# Between the layers, we have the layer activation\n",
    "nn_model = NN(layers=[layer_1, layer_1_rl_activation, layer_2, layer_2_rl_activation, layer_3, layer_3_sg_activation])\n",
    "# Training the neural network\n",
    "nn_model.fit(train)"
   ]
  }
 ],
 "metadata": {
  "kernelspec": {
   "display_name": "base",
   "language": "python",
   "name": "python3"
  },
  "language_info": {
   "codemirror_mode": {
    "name": "ipython",
    "version": 3
   },
   "file_extension": ".py",
   "mimetype": "text/x-python",
   "name": "python",
   "nbconvert_exporter": "python",
   "pygments_lexer": "ipython3",
   "version": "3.9.12 (main, Apr  4 2022, 05:22:27) [MSC v.1916 64 bit (AMD64)]"
  },
  "orig_nbformat": 4,
  "vscode": {
   "interpreter": {
    "hash": "26683c0a52c1ce81576e6920e98984204be89e95651716e71c2eb5e64142253a"
   }
  }
 },
 "nbformat": 4,
 "nbformat_minor": 2
}

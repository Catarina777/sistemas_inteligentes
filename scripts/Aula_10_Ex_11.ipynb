{
 "cells": [
  {
   "attachments": {},
   "cell_type": "markdown",
   "metadata": {},
   "source": [
    "Exercício 11: Medidas de erro"
   ]
  },
  {
   "attachments": {},
   "cell_type": "markdown",
   "metadata": {},
   "source": [
    "11.1) Adiciona uma nova medida de erro chamada cross entropy\n",
    "\n",
    "- Deves adicionar a função cross_entropy ao módulo cross_entropy.py no sub-package metrics"
   ]
  },
  {
   "cell_type": "code",
   "execution_count": null,
   "metadata": {},
   "outputs": [],
   "source": [
    "import numpy as np\n",
    "def cross_entropy(y_true: np.ndarray, y_pred: np.ndarray) -> float:\n",
    "    \"\"\"\n",
    "    It's calculated by the difference of two probabilities, the true values and the predicted ones.\n",
    "    *Entropy is the information of a message, in this context, of a variable.\n",
    "    \n",
    "\tParameters\n",
    "\t-----------\n",
    "\ty_true: The true labels of the dataset.\n",
    "    y_pred: The predicted labels of the dataset.\n",
    "\n",
    "    Returns\n",
    "\t-----------\n",
    "\tross-entropy loss function.\n",
    "    \"\"\"\n",
    "    return - np.sum(y_true) * np.log(y_pred) / len(y_true)\n"
   ]
  },
  {
   "attachments": {},
   "cell_type": "markdown",
   "metadata": {},
   "source": [
    "11.2) Adiciona agora a derivada da medida de erro cross entropy\n",
    "\n",
    "- Deves adicionar uma nova função chamada cross_entropy_derivative ao módulo cross_entropy.py"
   ]
  },
  {
   "cell_type": "code",
   "execution_count": null,
   "metadata": {},
   "outputs": [],
   "source": [
    "def cross_entropy_derivative(y_true: np.ndarray, y_pred: np.ndarray):\n",
    "    \"\"\"\n",
    "    Parameters\n",
    "\t-----------\n",
    "\ty_true: The true labels of the dataset.\n",
    "    y_pred: The predicted labels of the dataset.\n",
    "\n",
    "    Returns\n",
    "\t-----------\n",
    "\tDerivative of the cross-entropy loss function\n",
    "    \"\"\"\n",
    "    return - (y_true / y_pred) + ((1 - y_true) / (1 - y_pred)) / len(y_true)"
   ]
  }
 ],
 "metadata": {
  "kernelspec": {
   "display_name": "base",
   "language": "python",
   "name": "python3"
  },
  "language_info": {
   "name": "python",
   "version": "3.9.12 (main, Apr  4 2022, 05:22:27) [MSC v.1916 64 bit (AMD64)]"
  },
  "orig_nbformat": 4,
  "vscode": {
   "interpreter": {
    "hash": "26683c0a52c1ce81576e6920e98984204be89e95651716e71c2eb5e64142253a"
   }
  }
 },
 "nbformat": 4,
 "nbformat_minor": 2
}

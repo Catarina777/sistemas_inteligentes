{
 "cells": [
  {
   "cell_type": "markdown",
   "metadata": {},
   "source": [
    "Exercício 3: Implementar o KNNRegressor com RMSE"
   ]
  },
  {
   "cell_type": "markdown",
   "metadata": {},
   "source": [
    "3.1) Adiciona a métrica RMSE (RMQE em português) ao sub-package metrics. Deves criar um módulo chamado rmse.py. "
   ]
  },
  {
   "cell_type": "markdown",
   "metadata": {},
   "source": [
    "3.2) Considera a estrutura da função rmse apresentada no diapositivo seguinte. Adiciona o objeto KNNRegressor ao sub-package neighbors.\n",
    "Deves criar um módulo chamado knn_regressor.py para implementar este objeto."
   ]
  },
  {
   "cell_type": "code",
   "execution_count": 1,
   "metadata": {},
   "outputs": [],
   "source": [
    "from si.neighbours.knn_regressor import KNNRegressor\n",
    "from si.neighbours.knn_classifier import KNNClassifier\n",
    "from si.model_selection.split import train_test_split\n",
    "from si.io.csv import read_csv\n",
    "from si.statistics.euclidean_distance import euclidean_distance"
   ]
  },
  {
   "cell_type": "markdown",
   "metadata": {},
   "source": [
    "3.3) Considera a estrutura do objeto KNNRegressor apresentada no diapositivo seguinte."
   ]
  },
  {
   "cell_type": "markdown",
   "metadata": {},
   "source": [
    "3.4) Podes testar o objeto KNNRegressor num jupyter notebook usando o dataset cpu.csv (regressão)"
   ]
  },
  {
   "cell_type": "code",
   "execution_count": 2,
   "metadata": {},
   "outputs": [
    {
     "name": "stdout",
     "output_type": "stream",
     "text": [
      "(209, 6)\n"
     ]
    }
   ],
   "source": [
    "# Load the csv file to the notebook\n",
    "path = 'C:/Users/Catarina Ferreira/Desktop/Bioinf 2ºano/sistemas_inteligentes/datasets/cpu.csv'\n",
    "# Reading the csv file\n",
    "cpu = read_csv(path, sep = \",\", features = True, label = True)\n",
    "\n",
    "# Printing the dataset and the shape of it\n",
    "print(cpu.shape())"
   ]
  },
  {
   "cell_type": "code",
   "execution_count": 3,
   "metadata": {},
   "outputs": [
    {
     "name": "stdout",
     "output_type": "stream",
     "text": [
      "[[0]\n",
      " [0]\n",
      " [0]\n",
      " [0]\n",
      " [0]\n",
      " [0]\n",
      " [0]\n",
      " [0]\n",
      " [0]\n",
      " [0]\n",
      " [0]\n",
      " [0]\n",
      " [0]\n",
      " [0]\n",
      " [0]\n",
      " [0]\n",
      " [0]\n",
      " [0]\n",
      " [0]\n",
      " [0]\n",
      " [0]\n",
      " [0]\n",
      " [0]\n",
      " [0]\n",
      " [0]\n",
      " [0]\n",
      " [0]\n",
      " [0]\n",
      " [0]\n",
      " [0]\n",
      " [0]\n",
      " [0]\n",
      " [0]\n",
      " [0]\n",
      " [0]\n",
      " [0]\n",
      " [0]\n",
      " [0]\n",
      " [0]\n",
      " [0]\n",
      " [0]\n",
      " [0]\n",
      " [0]\n",
      " [0]\n",
      " [0]\n",
      " [0]\n",
      " [0]\n",
      " [0]\n",
      " [0]\n",
      " [0]\n",
      " [0]\n",
      " [0]\n",
      " [0]\n",
      " [0]\n",
      " [0]\n",
      " [0]\n",
      " [0]\n",
      " [0]\n",
      " [0]\n",
      " [0]\n",
      " [0]\n",
      " [0]\n",
      " [0]\n",
      " [0]\n",
      " [0]\n",
      " [0]\n",
      " [0]\n",
      " [0]\n",
      " [0]\n",
      " [0]\n",
      " [0]\n",
      " [0]\n",
      " [0]\n",
      " [0]\n",
      " [0]\n",
      " [0]\n",
      " [0]\n",
      " [0]\n",
      " [0]\n",
      " [0]\n",
      " [0]\n",
      " [0]\n",
      " [0]]\n",
      "(1853.7340693853582+0j)\n"
     ]
    }
   ],
   "source": [
    "# Spliting the dataset in train and testing parts\n",
    "train, test = train_test_split(cpu, 0.4, 24)\n",
    "\n",
    "# Number of neighbours \n",
    "k = 4\n",
    "# Estimating the the most similar examples \n",
    "knn = KNNRegressor(k)\n",
    "knn.fit(train)\n",
    "\n",
    "# Printing the prediction of the class with the highest frequency\n",
    "print(knn.predict(test))\n",
    "# Accuracy of the model\n",
    "print(knn.score(test))"
   ]
  },
  {
   "cell_type": "code",
   "execution_count": 4,
   "metadata": {},
   "outputs": [
    {
     "name": "stdout",
     "output_type": "stream",
     "text": [
      "[ 93   6  93  23  22 114  17  14  23 114  14  12  26 370 114  35 370  20\n",
      " 100   6  20  62 106  30  20  66 114  12  23   6  12  33  93  62   6  66\n",
      "  14  17  20  38  40  70 106  20  22  12  50  50  40 248  12  22 100  34\n",
      " 114  24  32  18  18 100  16  22  54 106  66  20  50  50 172  22  18  45\n",
      "  16   6  12  16  50  22  12 248  12  14  12]\n",
      "2.4096385542168677\n"
     ]
    }
   ],
   "source": [
    "# Number of neighbours \n",
    "k= 4\n",
    "# Distance we will use\n",
    "distance = euclidean_distance\n",
    "# Predicting classes\n",
    "knn = KNNClassifier(k, distance)\n",
    "knn.fit(train)\n",
    "\n",
    "# Printing the prediction of the class with the highest frequency\n",
    "print(knn.predict(test))\n",
    "# Accuracy of the model\n",
    "scores = knn.score(test)\n",
    "print(scores*100)"
   ]
  }
 ],
 "metadata": {
  "kernelspec": {
   "display_name": "Python 3 (ipykernel)",
   "language": "python",
   "name": "python3"
  },
  "language_info": {
   "codemirror_mode": {
    "name": "ipython",
    "version": 3
   },
   "file_extension": ".py",
   "mimetype": "text/x-python",
   "name": "python",
   "nbconvert_exporter": "python",
   "pygments_lexer": "ipython3",
   "version": "3.9.12 (main, Apr  4 2022, 05:22:27) [MSC v.1916 64 bit (AMD64)]"
  },
  "vscode": {
   "interpreter": {
    "hash": "26683c0a52c1ce81576e6920e98984204be89e95651716e71c2eb5e64142253a"
   }
  }
 },
 "nbformat": 4,
 "nbformat_minor": 2
}

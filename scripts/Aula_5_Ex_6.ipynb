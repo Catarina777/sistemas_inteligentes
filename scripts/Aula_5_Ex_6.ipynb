{
 "cells": [
  {
   "cell_type": "markdown",
   "metadata": {},
   "source": [
    "Exercício 6: Completa as implementações dos modelos RidgeRegression e LogisticRegression"
   ]
  },
  {
   "cell_type": "markdown",
   "metadata": {},
   "source": [
    "6.1) Adiciona aos modelos anteriores o atributo (parâmetro estimado) cost_history.\n",
    "\n",
    "- O cost_history deve ser um dicionário.\n",
    "\n",
    "- Durante as iterações do Gradient Descent, computa a função de custo (self.cost(dataset)) e armazena o resultado no dicionário cost_history.\n",
    "\n",
    "- A chave deve ser o número da iteração e o valor deve ser o custo nessa iteração."
   ]
  },
  {
   "cell_type": "markdown",
   "metadata": {},
   "source": [
    "6.2) Realiza um gráfico (line plot) que permita visualizar o comportamento do custo em função do número de iterações.\n",
    "\n",
    "- O eixo Y deve conter o valor de custo enquanto o eixo X deve conter as iterações. Podes usar o dicionário cost_history.\n",
    "\n",
    "- Usa o dataset cpu.csv, o package matplotlib e um jupyter notebook para visualizares o comportamento da função de custo (J) no modelo RidgeRegression.\n",
    "\n",
    "- Usa o dataset breast-bin.csv, o package matplotlib e um jupyter notebook para visualizares o comportamento da função de custo (J) no modelo LogisticRegression."
   ]
  },
  {
   "cell_type": "markdown",
   "metadata": {},
   "source": [
    "6.3) Altera agora o algoritmo de Gradient Descent. Este algoritmo deve parar quando o valor da função de custo (J/self.cost) não se altera.\n",
    "\n",
    "- Quando a diferença entre o custo da iteração anterior e o custo da iteração atual for inferior a um determinado valor deves parar o Gradient Descent.\n",
    "\n",
    "- No caso do RidgeRegression, o critério de paragem deve ser uma diferença inferior a 1.\n",
    "\n",
    "- No caso do LogisticRegression, o critério de paragem deve ser uma diferença inferior a 0.0001.\n",
    "\n",
    "- Deves usar o dicionário cost_history para obteres o custo da iteração anterior e calcular a diferença da seguinte forma: cost_history(i-1) – cost_history(i).\n",
    "\n",
    "- Usa o dataset cpu.csv, o package matplotlib e um jupyter notebook para visualizares o comportamento da função de custo (J) no modelo RidgeRegression\n",
    "\n",
    "- Usa o dataset breast-bin.csv, o package matplotlib e um jupyter notebook para visualizares o comportamento da função de custo (J) no modelo LogisticRegression"
   ]
  },
  {
   "cell_type": "markdown",
   "metadata": {},
   "source": [
    "RidgeRegression"
   ]
  },
  {
   "cell_type": "code",
   "execution_count": 12,
   "metadata": {},
   "outputs": [],
   "source": [
    "import matplotlib.pyplot as plt\n",
    "from si.io.csv import read_csv\n",
    "from si.io.data_file import read_data_file\n",
    "from sklearn.preprocessing import StandardScaler\n",
    "from si.model_selection.split import train_test_split\n",
    "from si.linear_module.ridge_regression import RidgeRegression\n",
    "from si.linear_module.logistic_regression import LogisticRegression\n",
    "from sklearn.preprocessing import StandardScaler"
   ]
  },
  {
   "cell_type": "code",
   "execution_count": 13,
   "metadata": {},
   "outputs": [],
   "source": [
    "# Load the csv file to the notebook\n",
    "path = 'C:/Users/Catarina Ferreira/Desktop/Bioinf 2ºano/sistemas_inteligentes/datasets/cpu.csv'\n",
    "# Reading the csv file\n",
    "cpu = read_csv(path, sep = \",\", features = True, label = True)"
   ]
  },
  {
   "cell_type": "code",
   "execution_count": 14,
   "metadata": {},
   "outputs": [
    {
     "name": "stdout",
     "output_type": "stream",
     "text": [
      "Test predicted values:\n",
      " [ 55.8090555  -28.00226602  99.80013564 291.77158456  71.10619516\n",
      " -37.95572122  56.43714396 -47.91344764 210.88711161 171.75585403\n",
      "  15.0809253  531.77468903  39.88831742 215.09351088 377.86640622\n",
      "  -1.05972235  23.00705268 -19.37584939 -36.07399985  -8.81922542\n",
      " -38.26933526  71.38314868 408.58201802  19.63140657  14.36502953\n",
      "  72.3819312   -6.53981519 -44.91165882 -32.85869827  35.66629225\n",
      "  53.64111334  33.58668767  14.48864088  89.82342767 107.49928661\n",
      " 102.30302463 -29.26140409  28.84953108 -12.79496148  88.04493785\n",
      " 209.05971451  97.42406648 -41.55378581  29.91407477 171.5431136\n",
      "  11.42679541  88.04493785  33.84284438  97.8230044  -47.21714642\n",
      " -22.59269627  -8.7549551  127.40690261 485.53978932 558.67737065\n",
      "   4.22154335 -24.39641939  17.82863466  61.73006069 -21.59315401\n",
      " 278.68062308 -41.27112409]\n",
      "--------------------\n",
      "Score: 106107.21255560424\n",
      "--------------------\n",
      "Cost: 1122.9476291897356\n",
      "--------------------\n"
     ]
    }
   ],
   "source": [
    "# Standardizing and transforming the values\n",
    "cpu.x = StandardScaler().fit_transform(cpu.x)\n",
    "# Spliting the dataset in train and testing parts\n",
    "train, test = train_test_split(cpu)\n",
    "\n",
    "ridge = RidgeRegression(use_adaptive_alpha = False, max_iter=3000)\n",
    "# Fits the model keeping without the adaptive alpha\n",
    "ridge.fit(train)\n",
    "\n",
    "# Printing the predicted values of the test\n",
    "print(\"Test predicted values:\\n\", ridge.predict(test))\n",
    "print('--------------------')\n",
    "# Printing the mean square error (mse)\n",
    "scores = ridge.score(test)\n",
    "print(\"Score:\", scores*100)\n",
    "print('--------------------')\n",
    "# Printing the cost of the model \n",
    "print(\"Cost:\", ridge.cost(test))\n",
    "# Printing all the costs for each iteration\n",
    "print('--------------------')\n",
    "#print(\"History:\\n\", ridge.cost_history, '\\n')"
   ]
  },
  {
   "cell_type": "code",
   "execution_count": 15,
   "metadata": {},
   "outputs": [
    {
     "data": {
      "image/png": "[encoded data removed]",
      "text/plain": [
       "<Figure size 432x288 with 1 Axes>"
      ]
     },
     "metadata": {
      "needs_background": "light"
     },
     "output_type": "display_data"
    }
   ],
   "source": [
    "# Ploting the ridge regression with regular fit\n",
    "plt.plot(list(ridge.cost_history.keys()), list(ridge.cost_history.values()), \"-\", color = \"lightblue\")\n",
    "plt.title(\"Cost of the RidgeRegression with regular fit\")\n",
    "# Naming the x and y axis\n",
    "plt.xlabel(\"Iteration\")\n",
    "plt.ylabel(\"Cost\")\n",
    "# Showing the plot\n",
    "plt.show()"
   ]
  },
  {
   "cell_type": "code",
   "execution_count": 16,
   "metadata": {},
   "outputs": [
    {
     "name": "stdout",
     "output_type": "stream",
     "text": [
      "Test predicted values:\n",
      " [ 55.82823035 -27.97948359  99.81250588 291.81529242  71.12942403\n",
      " -37.93279631  56.46818961 -47.85190419 210.93226755 171.78615273\n",
      "  15.10033571 531.81976106  39.91580071 215.12057306 377.92595761\n",
      "  -1.04231575  23.02540491 -19.3606909  -36.06304533  -8.80595496\n",
      " -38.25073812  71.4107184  408.63335982  19.65459394  14.38616581\n",
      "  72.40724729  -6.5244536  -44.87261014 -32.84371255  35.68199883\n",
      "  53.66645975  33.60241237  14.51086566  89.84727723 107.52680348\n",
      " 102.32439484 -29.24339306  28.872307   -12.7811009   88.06664993\n",
      " 209.09695229  97.44531652 -41.52240898  29.9352214  171.573982\n",
      "  11.44486391  88.06664993  33.86548942  97.84458712 -47.1770515\n",
      " -22.56813934  -8.73719992 127.41582017 485.53177215 558.75458946\n",
      "   4.23778388 -24.35302655  17.84698078  61.75652847 -21.54988621\n",
      " 278.71902458 -41.23003217]\n",
      "--------------------\n",
      "Score: 106034.04495378732\n",
      "--------------------\n",
      "Cost: 1122.228871264131\n",
      "--------------------\n"
     ]
    }
   ],
   "source": [
    "ridge_adapt = RidgeRegression(use_adaptive_alpha = True, max_iter=3000)\n",
    "# Fits the model keeping in mind the adapatitive alpha used\n",
    "ridge_adapt.fit(train)\n",
    "\n",
    "# Printing the predicted values of the test\n",
    "print(\"Test predicted values:\\n\", ridge_adapt.predict(test))\n",
    "print('--------------------')\n",
    "# Printing the mean square error (mse)\n",
    "scores = ridge_adapt.score(test)\n",
    "print(\"Score:\", scores*100)\n",
    "print('--------------------')\n",
    "# Printing the cost of the model \n",
    "print(\"Cost:\", ridge_adapt.cost(test))\n",
    "# Printing all the costs for each iteration\n",
    "print('--------------------')\n",
    "#print(\"History:\\n\", ridge_adapt.cost_history, '\\n')"
   ]
  },
  {
   "cell_type": "code",
   "execution_count": 17,
   "metadata": {},
   "outputs": [
    {
     "data": {
      "image/png": "[encoded data removed]",
      "text/plain": [
       "<Figure size 432x288 with 1 Axes>"
      ]
     },
     "metadata": {
      "needs_background": "light"
     },
     "output_type": "display_data"
    }
   ],
   "source": [
    "# Ploting the ridge regression with adaptive fit\n",
    "plt.plot(list(ridge_adapt.cost_history.keys()), list(ridge_adapt.cost_history.values()), \"-\", color = \"lightgreen\")\n",
    "plt.title(\"Cost of the RidgeRegression with adaptive fit\")\n",
    "# Naming the x and y axis\n",
    "plt.xlabel(\"Iteration\")\n",
    "plt.ylabel(\"Cost\")\n",
    "# Showing the plot\n",
    "plt.show()"
   ]
  },
  {
   "cell_type": "markdown",
   "metadata": {},
   "source": [
    "LogisticRgression"
   ]
  },
  {
   "cell_type": "code",
   "execution_count": 18,
   "metadata": {},
   "outputs": [],
   "source": [
    "# load the csv file to the notebook\n",
    "path = 'C:/Users/Catarina Ferreira/Desktop/Bioinf 2ºano/sistemas_inteligentes/datasets/breast-bin.data'\n",
    "# Reading the csv file\n",
    "breast = read_data_file(path, sep = \",\", label = True)"
   ]
  },
  {
   "cell_type": "code",
   "execution_count": 19,
   "metadata": {},
   "outputs": [
    {
     "name": "stdout",
     "output_type": "stream",
     "text": [
      "Teste predicted values:\n",
      " [0. 0. 1. 0. 0. 0. 1. 0. 0. 1. 1. 1. 0. 1. 1. 0. 0. 0. 0. 0. 0. 0. 0. 1.\n",
      " 0. 1. 0. 1. 1. 0. 0. 1. 0. 0. 0. 0. 1. 0. 1. 0. 0. 1. 0. 1. 1. 0. 0. 1.\n",
      " 1. 0. 0. 0. 1. 0. 0. 1. 0. 1. 0. 1. 1. 1. 0. 1. 0. 1. 0. 1. 1. 1. 0. 0.\n",
      " 0. 0. 0. 0. 1. 0. 1. 0. 0. 1. 1. 0. 0. 0. 0. 1. 0. 1. 0. 0. 0. 1. 1. 1.\n",
      " 0. 0. 0. 1. 0. 0. 0. 0. 0. 0. 1. 1. 1. 1. 0. 1. 0. 0. 0. 0. 0. 0. 1. 0.\n",
      " 0. 0. 0. 0. 0. 1. 0. 0. 0. 1. 0. 0. 1. 1. 1. 1. 0. 1. 0. 0. 0. 0. 1. 1.\n",
      " 1. 1. 0. 0. 0. 1. 1. 0. 1. 0. 1. 1. 0. 0. 0. 0. 0. 0. 1. 1. 1. 0. 0. 1.\n",
      " 0. 1. 1. 1. 1. 1. 0. 0. 0. 0. 0. 0. 0. 0. 0. 1. 1. 0. 0. 0. 1. 0. 1. 0.\n",
      " 1. 0. 0. 1. 0. 0. 0. 0. 0. 0. 0. 0. 0. 0. 0. 0. 1.]\n",
      "--------------------\n",
      "Score: 96.17224880382776\n",
      "--------------------\n",
      "Cost: 0.13687146898953695\n",
      "--------------------\n"
     ]
    }
   ],
   "source": [
    "# Standardizing and transforming the values\n",
    "breast.x = StandardScaler().fit_transform(breast.x)\n",
    "# Spliting the dataset in train and testing parts\n",
    "train, test = train_test_split(breast)\n",
    "\n",
    "linear = LogisticRegression(use_adaptive_alpha = False, max_iter=3000)\n",
    "# Fits the model without the adaptive alpha\n",
    "linear.fit(train)\n",
    "\n",
    "# Printing the predicted values of the test\n",
    "print(\"Teste predicted values:\\n\", linear.predict(test))\n",
    "print('--------------------')\n",
    "# Printing accuracy of the model \n",
    "scores = linear.score(test)\n",
    "print(\"Score:\", scores*100)\n",
    "print('--------------------')\n",
    "# Printing the cost of the model \n",
    "print(\"Cost:\", linear.cost(test))\n",
    "print('--------------------')\n",
    "# Printing all the costs for each iteration\n",
    "#print(\"History:\\n\", linear.cost_history)"
   ]
  },
  {
   "cell_type": "code",
   "execution_count": 20,
   "metadata": {},
   "outputs": [
    {
     "data": {
      "image/png": "[encoded data removed]",
      "text/plain": [
       "<Figure size 432x288 with 1 Axes>"
      ]
     },
     "metadata": {
      "needs_background": "light"
     },
     "output_type": "display_data"
    }
   ],
   "source": [
    "# Ploting the linear regression with regular fit\n",
    "plt.plot(list(linear.cost_history.keys()), list(linear.cost_history.values()), \"-\", color = \"lightblue\")\n",
    "plt.title(\"Cost of the LogisticRegression with regular fit\")\n",
    "# Naming the x and y axis\n",
    "plt.xlabel(\"Iteration\")\n",
    "plt.ylabel(\"Cost\")\n",
    "# Showing the plot\n",
    "plt.show()"
   ]
  },
  {
   "cell_type": "code",
   "execution_count": 21,
   "metadata": {},
   "outputs": [
    {
     "name": "stdout",
     "output_type": "stream",
     "text": [
      "Teste predicted values:\n",
      " [0. 0. 1. 0. 0. 0. 1. 0. 0. 1. 1. 1. 0. 1. 1. 0. 0. 0. 0. 0. 0. 0. 0. 1.\n",
      " 0. 1. 0. 1. 1. 0. 0. 1. 0. 0. 0. 0. 1. 0. 1. 0. 0. 1. 0. 1. 1. 0. 0. 1.\n",
      " 1. 0. 0. 0. 1. 0. 0. 1. 0. 1. 0. 1. 1. 1. 0. 1. 0. 1. 0. 1. 1. 1. 0. 0.\n",
      " 0. 0. 0. 0. 1. 0. 1. 0. 0. 1. 1. 0. 0. 0. 0. 1. 0. 1. 0. 0. 0. 1. 1. 1.\n",
      " 0. 0. 0. 1. 0. 0. 0. 0. 0. 0. 1. 1. 1. 1. 0. 1. 0. 0. 0. 0. 0. 0. 1. 0.\n",
      " 0. 0. 0. 0. 0. 1. 0. 0. 0. 1. 0. 0. 1. 1. 1. 1. 0. 1. 0. 0. 0. 0. 1. 1.\n",
      " 1. 1. 0. 0. 0. 1. 1. 0. 1. 0. 1. 1. 0. 0. 0. 0. 0. 0. 1. 1. 1. 0. 0. 1.\n",
      " 0. 1. 1. 1. 1. 1. 0. 0. 0. 0. 0. 0. 0. 0. 0. 1. 1. 0. 0. 0. 1. 0. 1. 0.\n",
      " 1. 0. 0. 1. 0. 0. 0. 0. 0. 0. 0. 0. 0. 0. 0. 0. 1.]\n",
      "--------------------\n",
      "Score: 96.17224880382776\n",
      "--------------------\n",
      "Cost: 0.13678360875241494\n",
      "--------------------\n"
     ]
    }
   ],
   "source": [
    "linear_adapt = LogisticRegression(use_adaptive_alpha = True, max_iter = 3000)\n",
    "# Fits the model keeping in mind the adapatitive alpha used\n",
    "linear_adapt.fit(train)\n",
    "\n",
    "# Printing the predicted values of the test\n",
    "print(\"Teste predicted values:\\n\", linear_adapt.predict(test))\n",
    "print('--------------------')\n",
    "# Printing accuracy of the model \n",
    "scores = linear_adapt.score(test)\n",
    "print(\"Score:\", scores*100)\n",
    "print('--------------------')\n",
    "# Printing the cost of the model \n",
    "print(\"Cost:\", linear_adapt.cost(test))\n",
    "print('--------------------')\n",
    "# Printing all the costs for each iteration\n",
    "#print(\"History:\\n\", linear_adapt.cost_history)"
   ]
  },
  {
   "cell_type": "code",
   "execution_count": 22,
   "metadata": {},
   "outputs": [
    {
     "data": {
      "image/png": "[encoded data removed]",
      "text/plain": [
       "<Figure size 432x288 with 1 Axes>"
      ]
     },
     "metadata": {
      "needs_background": "light"
     },
     "output_type": "display_data"
    }
   ],
   "source": [
    "# Ploting the linear regression with adaptive fit\n",
    "plt.plot(list(linear_adapt.cost_history.keys()), list(linear_adapt.cost_history.values()), \"-\", color = \"lightgreen\")\n",
    "plt.title(\"Cost of RidgeRegression with adaptive fit\")\n",
    "# Naming the x and y axis\n",
    "plt.xlabel(\"Iteration\")\n",
    "plt.ylabel(\"Cost\")\n",
    "# Showing the plot\n",
    "plt.show()"
   ]
  }
 ],
 "metadata": {
  "kernelspec": {
   "display_name": "Python 3 (ipykernel)",
   "language": "python",
   "name": "python3"
  },
  "language_info": {
   "codemirror_mode": {
    "name": "ipython",
    "version": 3
   },
   "file_extension": ".py",
   "mimetype": "text/x-python",
   "name": "python",
   "nbconvert_exporter": "python",
   "pygments_lexer": "ipython3",
   "version": "3.9.12"
  },
  "vscode": {
   "interpreter": {
    "hash": "26683c0a52c1ce81576e6920e98984204be89e95651716e71c2eb5e64142253a"
   }
  }
 },
 "nbformat": 4,
 "nbformat_minor": 2
}
